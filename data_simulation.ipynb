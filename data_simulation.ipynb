{
 "cells": [
  {
   "cell_type": "markdown",
   "metadata": {},
   "source": [
    "# Dataset simulation"
   ]
  },
  {
   "cell_type": "markdown",
   "metadata": {},
   "source": [
    "For every new dataset simulation the gradations have to be manually added for the specific quasi-identifiers."
   ]
  },
  {
   "cell_type": "markdown",
   "metadata": {},
   "source": [
    "### Choosing the dataset that should be simulated"
   ]
  },
  {
   "cell_type": "code",
   "execution_count": 1,
   "metadata": {},
   "outputs": [],
   "source": [
    "# either diabetes_130, diabetes_012 or adult\n",
    "simu_dataset='adult'"
   ]
  },
  {
   "cell_type": "markdown",
   "metadata": {},
   "source": [
    "### Loading Data\n",
    "\n",
    "1. loading data into pandas"
   ]
  },
  {
   "cell_type": "code",
   "execution_count": 2,
   "metadata": {},
   "outputs": [],
   "source": [
    "import pandas as pd\n",
    "import numpy as np\n",
    "import random as rd\n",
    "\n",
    "# read csv file\n",
    "if simu_dataset == 'diabetes_130':\n",
    "    df = pd.read_csv('./diabetes_130/diabetic_data.csv')\n",
    "elif simu_dataset == 'diabetes_012':\n",
    "    df = pd.read_csv('./diabetes_012/diabetes_012_cleaned.csv')\n",
    "elif simu_dataset == 'adult':\n",
    "    df = pd.read_csv('./adult/adult_cleaned.csv')\n",
    "\n",
    "# print\n"
   ]
  },
  {
   "cell_type": "markdown",
   "metadata": {},
   "source": [
    "3. selected attributes for simulation"
   ]
  },
  {
   "cell_type": "code",
   "execution_count": 3,
   "metadata": {},
   "outputs": [],
   "source": [
    "# personal attributes depending on the data set \n",
    "\n",
    "if simu_dataset == 'diabetes_130':\n",
    "    attributes = ['age', 'weight', 'gender', 'race']\n",
    "elif simu_dataset == 'diabetes_012':\n",
    "    attributes = ['Sex', 'Age', 'Education', 'Income']\n",
    "elif simu_dataset == 'adult':\n",
    "    attributes = ['age', 'native-country', 'sex', 'relationship']"
   ]
  },
  {
   "cell_type": "markdown",
   "metadata": {},
   "source": [
    "### Prepare Dataframe"
   ]
  },
  {
   "cell_type": "code",
   "execution_count": null,
   "metadata": {},
   "outputs": [],
   "source": [
    "# analysing data set structure\n",
    "\n",
    "# columnes & rows\n",
    "print('(rows, columns) =',df.shape)\n",
    "\n",
    "# column information\n",
    "print(df.info())"
   ]
  },
  {
   "cell_type": "markdown",
   "metadata": {},
   "source": [
    "- adding label\n",
    "- all unknown values are \"?\""
   ]
  },
  {
   "cell_type": "code",
   "execution_count": 5,
   "metadata": {},
   "outputs": [],
   "source": [
    "unknown = '?'\n",
    "\n",
    "df.replace('Unknown/Invalid', unknown, inplace=True)\n",
    "\n",
    "# add column amount_changed to dataframe to label the amount of changed rows\n",
    "df['amount_changed'] = pd.Series()\n",
    "\n",
    "# change the NaN values in the column 'amount_changed' to 0\n",
    "df['amount_changed'].fillna(0, inplace=True)"
   ]
  },
  {
   "cell_type": "markdown",
   "metadata": {},
   "source": [
    "## Simulations"
   ]
  },
  {
   "cell_type": "markdown",
   "metadata": {},
   "source": [
    "#### Gradiations\n",
    "\n",
    "- have to be manually changed, because every dataset provides different possibilities to classify the attributes"
   ]
  },
  {
   "cell_type": "markdown",
   "metadata": {},
   "source": [
    "**Gradiation:** for diabetes_130\n",
    "\n",
    "age:\n",
    "- 10-year age brackets\n",
    "- 3 groups\n",
    "    - Children & Young Adults [0-30)\n",
    "    - Middle-aged Adults [30-60)\n",
    "    - Old-aged Adults [60-100)\n",
    "- Unknown\n",
    "\n",
    "weight:\n",
    "- 25 lbs weight chunks\n",
    "- < or > 100 lbs\n",
    "- Unknown\n",
    "\n",
    "race:\n",
    "- no further gradiation possible\n",
    "- either known or unknown\n",
    "  \n",
    "sex:\n",
    "- no further gradiation possible\n",
    "- either known or unknown"
   ]
  },
  {
   "cell_type": "code",
   "execution_count": 5,
   "metadata": {},
   "outputs": [],
   "source": [
    "# outsourced if conditions in extra functions\n",
    "def attribute_changes_diabetes130(dataframe, attribute, index, row):\n",
    "    if (attribute == 'age'):\n",
    "        age_changes(dataframe, attribute, index, row)\n",
    "    elif (attribute == 'weight'):\n",
    "        weight_changes(dataframe, attribute, index, row)\n",
    "    elif (attribute == 'race'):\n",
    "        race_changes(dataframe, attribute, index, row)\n",
    "    elif (attribute == 'gender'):\n",
    "        sex_changes(dataframe, attribute, index, row)\n",
    "    \n",
    "\n",
    "\n",
    "def age_changes(dataframe, attribute, index, row):\n",
    "    if (row[attribute] in ['[0-10)','[10-20)','[20-30)']):\n",
    "        dataframe.at[index, attribute] = '[0-30)'\n",
    "        return 'changed'\n",
    "    elif (row[attribute] in ['[30-40)','[40-50)','[50-60)']):\n",
    "        dataframe.at[index, attribute] = '[30-60)'\n",
    "        return 'changed'\n",
    "    elif (row[attribute] in ['[60-70)','[70-80)','[80-90)','[90-100)']):\n",
    "        dataframe.at[index, attribute] = '[60-100)'\n",
    "        return 'changed'\n",
    "    elif (row[attribute] in ['[0-30)','[30-60)','[60-100)']):\n",
    "        dataframe.at[index, attribute] = '?'\n",
    "        return 'changed'\n",
    "    elif row[attribute] == '?':\n",
    "        return 'again'\n",
    "    else:\n",
    "        dataframe.at[index, attribute] = 'Error'\n",
    "\n",
    "def weight_changes(dataframe, attribute, index, row):\n",
    "    if (row[attribute] in ['[0-25)','[25-50)','[50-75)','[75-100)']):\n",
    "        dataframe.at[index, attribute] = '< 100'\n",
    "        return 'changed'\n",
    "    elif (row[attribute] in ['[100-125)','[125-150)','[150-175)','[175-200)','>200']):\n",
    "        dataframe.at[index, attribute] = '>= 100'\n",
    "        return 'changed'\n",
    "    elif (row[attribute] == '< 100' or row[attribute] == '>= 100'):\n",
    "        dataframe.at[index, attribute] = '?'\n",
    "        return 'changed'\n",
    "    elif row[attribute] == '?':\n",
    "        return 'again'\n",
    "    else:\n",
    "        dataframe.at[index, attribute] = 'Error'\n",
    "        return 'changed'\n",
    "\n",
    "def race_changes(dataframe, attribute, index, row):\n",
    "    if (row[attribute] in ['Caucasian', 'AfricanAmerican', 'Hispanic', 'Asian', 'Other']):\n",
    "        dataframe.at[index, attribute] = '?'\n",
    "        return 'changed'\n",
    "    elif row[attribute] == '?':\n",
    "        return 'again'\n",
    "    else:\n",
    "        dataframe.at[index, attribute] = 'Error'\n",
    "        return 'changed'\n",
    "\n",
    "def sex_changes(dataframe, attribute, index, row):\n",
    "    if (row[attribute] == 'Female' or row[attribute] == 'Male'):\n",
    "        dataframe.at[index, attribute] = '?'\n",
    "        return 'changed'\n",
    "    elif row[attribute] == '?':\n",
    "        return 'again'\n",
    "    else:\n",
    "        dataframe.at[index, attribute] = 'Error'\n",
    "        return 'changed'"
   ]
  },
  {
   "cell_type": "markdown",
   "metadata": {},
   "source": [
    "**Gradiation**: for diabetes_012\n",
    "\n",
    "Sex\n",
    "- no further gradiation possible\n",
    "- either known or unknown\n",
    "\n",
    "Age\n",
    "- 13-level 5 year age category (_AGEG5YR see codebook) \n",
    "- 3 groups\n",
    "    - Children & Young Adults [0-30)\n",
    "    - Middle-aged Adults [30-60)\n",
    "    - Old-aged Adults [60-100)\n",
    "- Unknown\n",
    " \n",
    "Education Level\n",
    "- Education level (EDUCA see codebook) scale 1-6\n",
    "- 3 Groups\n",
    "    - did not graduate\n",
    "    - High School Graduate\n",
    "    - College Graduate \n",
    "- Unknown\n",
    "\n",
    "Income\n",
    "- Income scale (INCOME2 see codebook) scale 1-8 \n",
    "- scale 1-4\n",
    "    - 1 = less than $75,000 \n",
    "    - 2 = $75,000 or more"
   ]
  },
  {
   "cell_type": "code",
   "execution_count": 7,
   "metadata": {},
   "outputs": [],
   "source": [
    "def attribute_changes_diabetes012(dataframe, attribute, index, row):\n",
    "    if (attribute == 'Age'):\n",
    "        return age_changes_2(dataframe, attribute, index, row)\n",
    "    elif (attribute == 'Sex'):\n",
    "        return sex_changes_2(dataframe, attribute, index, row)\n",
    "    elif (attribute == 'Education'):\n",
    "        return edu_changes(dataframe, attribute, index, row)\n",
    "    elif (attribute == 'Income'):\n",
    "        return inc_changes(dataframe, attribute, index, row)\n",
    "\n",
    "def age_changes_2(dataframe, attribute, index, row):\n",
    "    if (row[attribute] == '18-24' or row[attribute] == '25-29'):\n",
    "        dataframe.at[index, attribute] = '[0-30)'\n",
    "        return 'changed'\n",
    "    elif (row[attribute] in ['30-34','35-39','40-44','45-49','50-54','55-59']):\n",
    "        dataframe.at[index, attribute] = '[30-60)'\n",
    "        return 'changed'\n",
    "    elif (row[attribute] in ['60-64','65-69','70-74','75-79','80+']):\n",
    "        dataframe.at[index, attribute] = '[60-100)'\n",
    "        return 'changed'\n",
    "    elif (row[attribute] in ['[0-30)','[30-60)','[60-100)']): \n",
    "        dataframe.at[index, attribute] = '?'\n",
    "        return 'changed'\n",
    "    elif row[attribute] == '?':\n",
    "        return 'again'\n",
    "    else:\n",
    "        dataframe.at[index, attribute] = 'Error'\n",
    "        return 'changed'\n",
    "\n",
    "def sex_changes_2(dataframe, attribute, index, row):\n",
    "    if (row[attribute] == 'male' or row[attribute] == 'female'):\n",
    "        dataframe.at[index, attribute] = '?'\n",
    "        return 'changed'\n",
    "    elif row[attribute] == '?':\n",
    "        return 'again'\n",
    "    else:\n",
    "        dataframe.at[index, attribute] = 'Error'\n",
    "        return 'changed'\n",
    "\n",
    "def edu_changes(dataframe, attribute, index, row):\n",
    "    if(row[attribute] in ['no school/only kindergarten','elementary','some high school']):\n",
    "        dataframe.at[index, attribute] = 'did not graduate high school'\n",
    "        return 'changed'\n",
    "    elif (row[attribute] in ['high school graduate','some college/technical school']):\n",
    "        dataframe.at[index, attribute] = 'graduated high school'\n",
    "        return 'changed'\n",
    "    elif (row[attribute] == 'college graduate'):\n",
    "        dataframe.at[index, attribute] = 'graduated college'\n",
    "        return 'changed'\n",
    "    elif(row[attribute] in ['did not graduate high school','graduated high school','graduated college']):\n",
    "        dataframe.at[index, attribute] = '?'\n",
    "        return 'changed'\n",
    "    elif row[attribute] == '?':\n",
    "        return 'again'\n",
    "    else:\n",
    "        dataframe.at[index, attribute] = 'Error'\n",
    "        return 'changed'\n",
    "\n",
    "def inc_changes(dataframe, attribute, index, row):\n",
    "    if (row[attribute] in ['< $10,000','< $15,000','< $20,000','< $25,000', '< $35,000', '< $50,000', '< $75,000']): \n",
    "        dataframe.at[index, attribute] = '< $50,000 '\n",
    "        return 'changed'\n",
    "    elif(row[attribute] in  ['< $75,000','>= $75,000']):\n",
    "        dataframe.at[index, attribute] = '>= $50,000'\n",
    "        return 'changed'\n",
    "    elif(row[attribute] in ['< 50,000','>= $50,000']): \n",
    "        dataframe.at[index, attribute] = '?'\n",
    "        return 'changed'\n",
    "    elif row[attribute] == '?':\n",
    "        return 'again'\n",
    "    else:\n",
    "        dataframe.at[index, attribute] = 'Error'\n",
    "        return 'changed'"
   ]
  },
  {
   "cell_type": "markdown",
   "metadata": {},
   "source": [
    "**Gradiation**: for adult\n",
    "\n",
    "Sex\n",
    "- Female, Male\n",
    "- no further gradiation possible\n",
    "- either known or unknown\n",
    "\n",
    "Native-Country\n",
    "- native country\n",
    "    - (United-States, Cambodia, England, Puerto-Rico, Canada, Germany, Outlying-US(Guam-USVI-etc), India, Japan, Greece, South, China, Cuba, Iran, Honduras, Philippines, Italy, Poland, Jamaica, Vietnam, Mexico, Portugal, Ireland, France, Dominican-Republic, Laos, Ecuador, Taiwan, Haiti, Columbia, Hungary, Guatemala, Nicaragua, Scotland, Thailand, Yugoslavia, El-Salvador, Trinadad&Tobago, Peru, Hong, Holand-Netherlands)\n",
    "- native continent\n",
    "    - **North America:** ['United-States', 'Puerto Rico', 'Canada', 'Outlying-US (Guam-USVI-etc.)', 'Cuba', 'Honduras', 'Jamaica', 'Mexico', 'Dominican-Republic', 'Haiti', 'Guatemala', 'Nicaragua', 'El-Salvador', 'Trinadad&Tobago']\n",
    "    - **Asia:** ['Cambodia', 'India', 'Japan', 'China', 'Iran', 'Philippines', 'Vietnam', 'Laos', 'Taiwan', 'Thailand', 'Hong'] \n",
    "    - **Europe:** ['England','Germany','Greece', 'Italy', 'Poland', 'Portugal', 'Ireland', 'France', 'Scotland', 'Hungary', 'Yugoslavia', 'Holand-Netherlands']\n",
    "    - **South America:** ['Ecuador', 'Colombia', 'Peru']\n",
    "- unknown\n",
    "\n",
    "Age\n",
    "- exact age given\n",
    "- 3 groups\n",
    "    - Children & Young Adults [0-30)\n",
    "    - Middle-aged Adults [30-60)\n",
    "    - Old-aged Adults [60-100)\n",
    "- Unknown\n",
    " \n",
    "Relationship\n",
    "- Wife, Own-child, Husband, Not-in-family, Other-relative, Unmarried.\n",
    "- married or unmarried\n",
    "    - married: ['Wife', 'Husband']\n",
    "    - not married: ['Own-child', 'Not-in-family', 'Other-relative', 'Unmarried']\n",
    "- either known or unknown"
   ]
  },
  {
   "cell_type": "code",
   "execution_count": 8,
   "metadata": {},
   "outputs": [],
   "source": [
    "def attribute_changes_adult(dataframe, attribute, index, row):\n",
    "    if(attribute == 'age'):\n",
    "        return age_changes_3(dataframe, attribute, index, row)\n",
    "    elif (attribute == 'native-country'):\n",
    "        return nat_changes(dataframe, attribute, index, row)\n",
    "    elif (attribute == 'sex'):\n",
    "        return sex_changes(dataframe, attribute, index, row)\n",
    "    elif (attribute == 'relationship'):\n",
    "        return rel_changes(dataframe, attribute, index, row)\n",
    "\n",
    "def age_changes_3(dataframe, attribute, index, row):\n",
    "    if (row[attribute] < 30):\n",
    "        dataframe.at[index, attribute] = '[0-30)'\n",
    "        return 'changed'\n",
    "    elif (row[attribute] < 60 and row[attribute] >= 30):\n",
    "        dataframe.at[index, attribute] = '[30-60)'\n",
    "        return 'changed'\n",
    "    elif (row[attribute] >= 60):\n",
    "        dataframe.at[index, attribute] = '[60-100)'\n",
    "        return 'changed'\n",
    "    elif (row[attribute] in ['[0-30)','[30-60)','[60-100)']): \n",
    "        dataframe.at[index, attribute] = '?'\n",
    "        return 'changed'\n",
    "    elif row[attribute] == '?':\n",
    "        return 'again'\n",
    "    else:\n",
    "        dataframe.at[index, attribute] = 'Error'\n",
    "        return 'changed'\n",
    "\n",
    "def nat_changes(dataframe, attribute, index, row):\n",
    "    if(row[attribute] in ['United-States','Puerto-Rico','Canada','Outlying-US(Guam-USVI-etc)','Cuba','Honduras','Jamaica','Mexico','Dominican-Republic','Haiti','Guatemala','Nicaragua','El-Salvador','Trinadad&Tobago']):\n",
    "        dataframe.at[index, attribute] = 'North-America'\n",
    "        return 'changed'\n",
    "    elif(row[attribute] in ['Ecuador','Columbia','Peru']):\n",
    "        dataframe.at[index, attribute] = 'South-America'\n",
    "        return 'changed'\n",
    "    elif(row[attribute] in ['England','Germany','Greece','Italy','Poland','Portugal','Ireland','France','Scotland','Hungary','Yugoslavia','Holand-Netherlands']):\n",
    "        dataframe.at[index, attribute] = 'Europe'\n",
    "        return 'changed'\n",
    "    elif(row[attribute] in ['Cambodia','India','Japan','China','Iran', 'Philippines','Vietnam','Laos','Taiwan','Thailand','Hong Kong']):\n",
    "        dataframe.at[index, attribute] = 'Asia'\n",
    "        return 'changed'\n",
    "    elif(row[attribute] in ['North-America','South-America', 'Europe', 'Asia']):\n",
    "        dataframe.at[index, attribute] = '?'\n",
    "    elif row[attribute] == '?':\n",
    "        return 'again'\n",
    "    else:\n",
    "        dataframe.at[index, attribute] = 'Error'\n",
    "        return 'changed'\n",
    "\n",
    "\n",
    "def rel_changes(dataframe, attribute, index, row):\n",
    "    if (row[attribute] in ['Wife', 'Husband']):\n",
    "        dataframe.at[index, attribute] = 'married'\n",
    "        return 'changed'\n",
    "    elif (row[attribute] in ['Own-child', 'Not-in-family', 'Other-relative', 'Unmarried']):\n",
    "        dataframe.at[index, attribute] = 'not married'\n",
    "        return 'changed'\n",
    "    elif (row[attribute] == 'married' or row[attribute] == 'not married'):\n",
    "        dataframe.at[index, attribute] = '?'\n",
    "        return 'changed'\n",
    "    elif row[attribute] == '?':\n",
    "        return 'again'\n",
    "    else:\n",
    "        dataframe.at[index, attribute] = 'Error'\n",
    "        return 'changed'"
   ]
  },
  {
   "cell_type": "markdown",
   "metadata": {},
   "source": [
    "Changing values in dataframe rows with a given possibility and an amount of changes per row"
   ]
  },
  {
   "cell_type": "code",
   "execution_count": 6,
   "metadata": {},
   "outputs": [],
   "source": [
    "def change_row_values(dataframe, probability, max_change):\n",
    "    for index, row in dataframe.iterrows():\n",
    "        # probability to change the row\n",
    "        if rd.random() <= probability:\n",
    "            for i in range(0, max_change):\n",
    "                dataframe.at[index, 'amount_changed'] += 1\n",
    "                ret = 'again'\n",
    "                while ret == 'again':\n",
    "                    column_rand = rd.randint(0, (len(attributes)-1))\n",
    "                    if simu_dataset == 'diabetes_130':\n",
    "                        ret = attribute_changes_diabetes130(dataframe, attributes[column_rand], index, row)\n",
    "                    elif simu_dataset == 'diabetes_012':\n",
    "                        ret = attribute_changes_diabetes012(dataframe, attributes[column_rand], index, row)\n",
    "                    elif simu_dataset == 'adult':\n",
    "                        ret = attribute_changes_adult(dataframe, attributes[column_rand], index, row)"
   ]
  },
  {
   "cell_type": "markdown",
   "metadata": {},
   "source": [
    "change_values_strictness takes a dataframe and the level of strictness that should change the dataset accordingly with a growing probability for changes if the strictness grows."
   ]
  },
  {
   "cell_type": "code",
   "execution_count": 10,
   "metadata": {},
   "outputs": [],
   "source": [
    "def change_values_strictness(dataframe, strictness):\n",
    "        if strictness == 'low':\n",
    "            change_row_values(dataframe, 0.25, 1)\n",
    "        elif strictness == 'medium':\n",
    "            change_row_values(dataframe, 0.5, 2)\n",
    "        elif strictness == 'high':\n",
    "            change_row_values(dataframe, 0.75, 3)\n",
    "        elif strictness == 'maximum':\n",
    "            change_row_values(dataframe, 1, 4)"
   ]
  },
  {
   "cell_type": "markdown",
   "metadata": {},
   "source": [
    "mixed simulation with 3 different levels, representing the 3 Westin classifications of population privacy (from Privacy practices of Internet users: Self-reports versus observed behavior)"
   ]
  },
  {
   "cell_type": "markdown",
   "metadata": {},
   "source": [
    "- Fundamentalists (high strictness): 34%\n",
    "- Pragmatist (medium strictness): 43%\n",
    "- Unconcerned (low strictness): 23%"
   ]
  },
  {
   "cell_type": "code",
   "execution_count": 11,
   "metadata": {},
   "outputs": [],
   "source": [
    "def change_values_strictness_westin(dataframe, percentage, strictness, start):\n",
    "    subset = (percentage*dataframe.shape[0])/100\n",
    "    subsetDf = dataframe.iloc[start:(start+int(subset)+1)]\n",
    "    # print(subsetDf)\n",
    "    change_values_strictness(subsetDf, strictness)\n",
    "    return (start+int(subset)+1)\n"
   ]
  },
  {
   "cell_type": "code",
   "execution_count": 12,
   "metadata": {},
   "outputs": [],
   "source": [
    "def change_realistic_values(dataframe, percentages, strictnesses):\n",
    "    start = 0\n",
    "    for percentage, strictness in zip(percentages, strictnesses):\n",
    "        # print('Percentage:', percentage,'%', 'Strictness:', strictness)\n",
    "        start = change_values_strictness_westin(dataframe, percentage, strictness, start)"
   ]
  },
  {
   "cell_type": "code",
   "execution_count": 13,
   "metadata": {},
   "outputs": [],
   "source": [
    "# checking for errors in a dataframe, returns number of errors\n",
    "def check_for_errors(dataframe):\n",
    "    count = 0\n",
    "    for column in dataframe:\n",
    "        row_count_with_values = dataframe.loc[dataframe[column] == 'Error'].shape[0]\n",
    "        # print('Error values in', column, 'column:', row_count_with_values)\n",
    "        count+= row_count_with_values\n",
    "    return count\n",
    "\n",
    "# check_for_errors(test_)"
   ]
  },
  {
   "cell_type": "markdown",
   "metadata": {},
   "source": [
    "Creating changed dataframes for all data and exporting the results into csv-files."
   ]
  },
  {
   "cell_type": "code",
   "execution_count": 14,
   "metadata": {},
   "outputs": [],
   "source": [
    "def export(dataframe, modus):\n",
    "    errors = check_for_errors(dataframe)\n",
    "    if (errors != 0):\n",
    "        print('There are', errors ,'errors in the dataframe')\n",
    "    else:\n",
    "        print('There are', errors ,'errors in the dataframe')\n",
    "        if simu_dataset == 'diabetes_130':\n",
    "            dataframe.to_csv('./diabetes_130/simulations/'+modus+'.csv', index=False)\n",
    "        elif simu_dataset == 'diabetes_012':\n",
    "            dataframe.to_csv('./diabetes_012/simulations/'+modus+'.csv', index=False)\n",
    "        elif simu_dataset == 'adult':\n",
    "            dataframe.to_csv('./adult/simulations/'+modus+'.csv', index=False)\n",
    "        else:\n",
    "            print('Error export')\n"
   ]
  },
  {
   "cell_type": "code",
   "execution_count": 15,
   "metadata": {},
   "outputs": [],
   "source": [
    "def export_changed_(strictness):\n",
    "    dataframe = df.copy()\n",
    "    change_values_strictness(dataframe, strictness)\n",
    "    export(dataframe, strictness)\n",
    "\n",
    "def export_changed_strictnesses(dataframes, strictnesses):\n",
    "    for dataframe, strictness in zip(dataframes, strictnesses):\n",
    "        change_values_strictness(dataframe, strictness)\n",
    "    result = pd.concat(dataframes)\n",
    "    export(result, 'karampela')\n",
    "\n",
    "def export_westin_change(percentages, strictnesses):\n",
    "    dataframe = df.copy()\n",
    "    change_realistic_values(dataframe, percentages, strictnesses)\n",
    "    export(dataframe, 'westin')\n",
    "    "
   ]
  },
  {
   "cell_type": "markdown",
   "metadata": {},
   "source": [
    "Simulating the three extreme cases of strictness."
   ]
  },
  {
   "cell_type": "code",
   "execution_count": null,
   "metadata": {},
   "outputs": [],
   "source": [
    "export_changed_('low')\n",
    "export_changed_('medium')\n",
    "export_changed_('high')\n",
    "export_changed_('maximum')"
   ]
  },
  {
   "cell_type": "markdown",
   "metadata": {},
   "source": [
    "Simulating a realistic case of participants having different strictnesses. "
   ]
  },
  {
   "cell_type": "code",
   "execution_count": null,
   "metadata": {},
   "outputs": [],
   "source": [
    "percentages=[26,64,10]\n",
    "percentages2=[50,50,0]\n",
    "percentages3=[0,50,50]\n",
    "strictnesses=['high', 'medium', 'low']\n",
    "\n",
    "export_westin_change(percentages, strictnesses)"
   ]
  },
  {
   "cell_type": "markdown",
   "metadata": {},
   "source": [
    "practical distribution where participants over 45 are more likely to be stricter with their data sharing\n",
    "\n",
    "1. analyse each row, if it has fitting attributes\n",
    "    - label the row with the strictness\n",
    "2. iterate and change the rows according to the label"
   ]
  },
  {
   "cell_type": "code",
   "execution_count": 6,
   "metadata": {},
   "outputs": [],
   "source": [
    "data = df.copy()\n",
    "data['strictness'] = pd.Series()\n",
    "data['strictness'].fillna(0, inplace=True)\n",
    "# possible values: low, medium, high, maximum\n",
    "\n",
    "# age\n",
    "if simu_dataset == 'diabetes_012':\n",
    "    high = data.loc[data['Age'].isin(['45-49','50-54','55-59','60-64','65-69','70-74','75-79','80+'])]\n",
    "    medium = data.loc[data['Age'].isin(['30-34','35-39','40-44'])]\n",
    "    low = data.loc[data['Age'].isin(['18-24','25-29'])]\n",
    "elif simu_dataset == 'diabetes_130':\n",
    "    high = data.loc[data['age'].isin(['[50-60)','[60-70)','[70-80)','[80-90)','[90-100)'])]\n",
    "    medium = data.loc[data['age'].isin(['[30-40)','[40-50)'])]\n",
    "    low = data.loc[data['age'].isin(['[0-10)','[10-20)','[20-30)'])]\n",
    "elif simu_dataset == 'adult':\n",
    "    high = data.loc[data['age'].isin(range(45,100))]\n",
    "    medium = data.loc[data['age'].isin(range(30,45))]\n",
    "    low = data.loc[data['age'].isin(range(18,30))]\n",
    "\n",
    "for index, row in high.iterrows():\n",
    "    data.at[index,'strictness'] = 'high'\n",
    "for index, row in medium.iterrows():\n",
    "    data.at[index,'strictness'] = 'medium'\n",
    "for index, row in low.iterrows():\n",
    "    data.at[index,'strictness'] = 'low'\n",
    "\n",
    "# + education in the dataset where education is given by participants\n",
    "def rank_higher(value, index):\n",
    "    if value == 'high':\n",
    "        data.at[index,'strictness'] = 'maximum'\n",
    "    elif value == 'medium':\n",
    "        data.at[index,'strictness'] = 'high'\n",
    "    elif value == 'low':\n",
    "        data.at[index,'strictness'] = 'medium'\n",
    "    else:\n",
    "        data.at[index,'strictness'] = 'low'\n",
    "def rank_lower(value, index):\n",
    "    if value == 'high':\n",
    "        data.at[index,'strictness'] = 'medium'\n",
    "    elif value == 'medium':\n",
    "        data.at[index,'strictness'] = 'low'\n",
    "    elif value == 'low':\n",
    "        data.at[index,'strictness'] = 'low'\n",
    "    else:\n",
    "        data.at[index,'strictness'] = 'low'\n",
    "# \"Lower levels of education are associated with lesser willingness to share data\" Karampela et al. (2019)[24]\n",
    "if simu_dataset != 'diabetes_130':\n",
    "    if simu_dataset == 'diabetes_012':\n",
    "        high = data.loc[data['Education'].isin(['no school/only kindergarten','elementary','some high school'])]\n",
    "        medium = data.loc[data['Education'].isin(['high school graduate'])]\n",
    "        low = data.loc[data['Education'].isin(['some college/technical school', 'college graduate'])]\n",
    "    elif simu_dataset == 'adult':\n",
    "        high = data.loc[data['education'].isin(['Preschool','1st-4th','5th-6th','7th-8th','9th','10th','11th','12th'])]\n",
    "        medium = data.loc[data['education'].isin(['HS-grad'])]\n",
    "        low = data.loc[data['education'].isin(['Some-college','Assoc-acdm','Assoc-voc','Bachelors','Masters','Doctorate'])]\n",
    "\n",
    "    for index, row in high.iterrows():\n",
    "        value = data.at[index,'strictness']\n",
    "        rank_higher(value, index)\n",
    "    for index, row in medium.iterrows():\n",
    "        value = data.at[index,'strictness']\n",
    "    for index, row in low.iterrows():\n",
    "        value = data.at[index,'strictness']\n",
    "        rank_lower(value, index)\n",
    "\n"
   ]
  },
  {
   "cell_type": "code",
   "execution_count": null,
   "metadata": {},
   "outputs": [],
   "source": [
    "low = data.loc[data['strictness']=='low']\n",
    "print(simu_dataset)\n",
    "print('low: ',low.shape[0]*100/data.shape[0], '%')\n",
    "medium = data.loc[data['strictness']=='medium']\n",
    "print('medium: ', medium.shape[0]*100/data.shape[0], '%')\n",
    "high = data.loc[data['strictness']=='high']\n",
    "print('high: ',high.shape[0]*100/data.shape[0], '%')\n",
    "maximum = data.loc[data['strictness']=='maximum']\n",
    "print('maximum: ',maximum.shape[0]*100/data.shape[0], '%')\n",
    "\n",
    "export_changed_strictnesses([low, medium, high, maximum], ['low', 'medium', 'high', 'maximum'])"
   ]
  }
 ],
 "metadata": {
  "kernelspec": {
   "display_name": "Python 3",
   "language": "python",
   "name": "python3"
  },
  "language_info": {
   "codemirror_mode": {
    "name": "ipython",
    "version": 3
   },
   "file_extension": ".py",
   "mimetype": "text/x-python",
   "name": "python",
   "nbconvert_exporter": "python",
   "pygments_lexer": "ipython3",
   "version": "3.11.2"
  }
 },
 "nbformat": 4,
 "nbformat_minor": 2
}
